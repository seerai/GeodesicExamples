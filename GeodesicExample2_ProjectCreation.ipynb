{
 "cells": [
  {
   "cell_type": "markdown",
   "id": "3fc41a5a",
   "metadata": {},
   "source": [
    "## Geodesic Project Creation & Account Information\n",
    "\n",
    "Everything in Geodesic is done inside of a project. Below follows instructions on creating a project, controlling permissions, and viewing user account information"
   ]
  },
  {
   "cell_type": "code",
   "execution_count": 1,
   "id": "ae4e9532",
   "metadata": {},
   "outputs": [
    {
     "name": "stderr",
     "output_type": "stream",
     "text": [
      "/home/awagner/anaconda3/envs/geodesic/lib/python3.8/site-packages/geodesic/utils/downloader.py:30: UserWarning: google.cloud.storage is installed, but GOOGLE_APPLICATION_CREDENTIALS is not set\n",
      "  warnings.warn(\"google.cloud.storage is installed, but GOOGLE_APPLICATION_CREDENTIALS is not set\", UserWarning)\n"
     ]
    },
    {
     "name": "stdout",
     "output_type": "stream",
     "text": [
      "geodesic version =  0.11.7\n"
     ]
    }
   ],
   "source": [
    "#Import Geodesic package and print installed version\n",
    "import geodesic\n",
    "print(\"geodesic version = \",geodesic.__version__)"
   ]
  },
  {
   "cell_type": "code",
   "execution_count": 2,
   "id": "f6093eba",
   "metadata": {},
   "outputs": [],
   "source": [
    "#Toggle between clusters\n",
    "geodesic.config.ConfigManager().set_active_config('seerai')"
   ]
  },
  {
   "cell_type": "markdown",
   "id": "4a511c5b",
   "metadata": {},
   "source": [
    "### Create a project"
   ]
  },
  {
   "cell_type": "code",
   "execution_count": 5,
   "id": "b33838ec",
   "metadata": {},
   "outputs": [],
   "source": [
    "#Assign parameters for a new project\n",
    "geodesic_example_project = geodesic.Project(name=\"geodesic-example-1\", alias=\"geodesic_example_1\", description=\"an example project to demonstrate\\\n",
    "geodesic\")\n",
    "\n",
    "#Create the above project \n",
    "geodesic_example_project.create()"
   ]
  },
  {
   "cell_type": "code",
   "execution_count": null,
   "id": "3a35442c",
   "metadata": {},
   "outputs": [],
   "source": [
    "#Update permissions for a project\n",
    "proj = geodesic.get_project('geodesic-example-1')\n",
    "proj.update_permission(user='auth0|[user]', permissions={'read':True})"
   ]
  },
  {
   "cell_type": "code",
   "execution_count": 6,
   "id": "6b2494ac",
   "metadata": {},
   "outputs": [
    {
     "data": {
      "text/plain": [
       "[{'name': 'global',\n",
       "  'alias': 'Global Graph',\n",
       "  'description': 'The Global Project. All can read, few can write.',\n",
       "  'owner': '',\n",
       "  'keywords': 'global',\n",
       "  'uid': 'global'},\n",
       " {'name': 'geodesic-example-1',\n",
       "  'alias': 'geodesic_example_1',\n",
       "  'description': 'an example project to demonstrategeodesic',\n",
       "  'owner': 'NeVDse1rZ0sMpSbqa6Hdpg_PfyDvAIf0vMIUotEMADI',\n",
       "  'keywords': '',\n",
       "  'uid': '7d93e6b211e38d8a9cbd4f3e61aab909fda46be0'}]"
      ]
     },
     "execution_count": 6,
     "metadata": {},
     "output_type": "execute_result"
    }
   ],
   "source": [
    "#View the projects you have access to\n",
    "geodesic.get_projects()"
   ]
  },
  {
   "cell_type": "markdown",
   "id": "9173a6ed",
   "metadata": {},
   "source": [
    "### View datasets inside a project"
   ]
  },
  {
   "cell_type": "code",
   "execution_count": 8,
   "id": "1d06fdb2",
   "metadata": {},
   "outputs": [
    {
     "data": {
      "application/vnd.jupyter.widget-view+json": {
       "model_id": "7a9ba39dc2d1462e8046a32b1fbc0e75",
       "version_major": 2,
       "version_minor": 0
      },
      "text/plain": [
       "ObjectWidget(object_value={'naip-imagery': dataset:*:*:*:naip-imagery, 'ecmwf': dataset:*:*:*:ecmwf})"
      ]
     },
     "metadata": {},
     "output_type": "display_data"
    }
   ],
   "source": [
    "#Set the active project (subgraph) in entanglement\n",
    "geodesic.set_active_project('geodesic-example-1')\n",
    "\n",
    "#List datasets in project\n",
    "datasets = geodesic.list_datasets(project='geodesic-example-1')\n",
    "\n",
    "#View output list\n",
    "datasets"
   ]
  }
 ],
 "metadata": {
  "kernelspec": {
   "display_name": "geodesic_linux",
   "language": "python",
   "name": "geodesic"
  },
  "language_info": {
   "codemirror_mode": {
    "name": "ipython",
    "version": 3
   },
   "file_extension": ".py",
   "mimetype": "text/x-python",
   "name": "python",
   "nbconvert_exporter": "python",
   "pygments_lexer": "ipython3",
   "version": "3.8.13"
  }
 },
 "nbformat": 4,
 "nbformat_minor": 5
}
