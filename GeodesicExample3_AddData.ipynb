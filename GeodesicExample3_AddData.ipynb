{
 "cells": [
  {
   "cell_type": "markdown",
   "id": "777ceb76",
   "metadata": {},
   "source": [
    "## Adding data to a project with Boson\n",
    "\n",
    "Boson allows a user to virtualize data from many different locations\n",
    "\n",
    "Before data is added a user must save their credentials to platforms of interest inside of Geodesic"
   ]
  },
  {
   "cell_type": "code",
   "execution_count": 1,
   "id": "e123793a",
   "metadata": {},
   "outputs": [
    {
     "name": "stderr",
     "output_type": "stream",
     "text": [
      "/home/awagner/anaconda3/envs/geodesic/lib/python3.8/site-packages/geodesic/utils/downloader.py:30: UserWarning: google.cloud.storage is installed, but GOOGLE_APPLICATION_CREDENTIALS is not set\n",
      "  warnings.warn(\"google.cloud.storage is installed, but GOOGLE_APPLICATION_CREDENTIALS is not set\", UserWarning)\n"
     ]
    },
    {
     "name": "stdout",
     "output_type": "stream",
     "text": [
      "geodesic version =  0.11.7\n"
     ]
    }
   ],
   "source": [
    "import geodesic\n",
    "print(\"geodesic version = \",geodesic.__version__)"
   ]
  },
  {
   "cell_type": "code",
   "execution_count": 2,
   "id": "b1de2698",
   "metadata": {},
   "outputs": [],
   "source": [
    "#Toggle between clusters\n",
    "geodesic.config.ConfigManager().set_active_config('seerai')"
   ]
  },
  {
   "cell_type": "code",
   "execution_count": 3,
   "id": "98043433",
   "metadata": {},
   "outputs": [
    {
     "data": {
      "text/plain": [
       "{'name': 'geodesic-example-1',\n",
       " 'alias': 'geodesic_example_1',\n",
       " 'description': 'an example project to demonstrategeodesic',\n",
       " 'owner': 'NeVDse1rZ0sMpSbqa6Hdpg_PfyDvAIf0vMIUotEMADI',\n",
       " 'keywords': '',\n",
       " 'uid': '7d93e6b211e38d8a9cbd4f3e61aab909fda46be0'}"
      ]
     },
     "execution_count": 3,
     "metadata": {},
     "output_type": "execute_result"
    }
   ],
   "source": [
    "geodesic.set_active_project('geodesic-example-1')"
   ]
  },
  {
   "cell_type": "markdown",
   "id": "ebe4694a",
   "metadata": {},
   "source": [
    "### Save credentials inside Geodesic"
   ]
  },
  {
   "cell_type": "code",
   "execution_count": 10,
   "id": "5e1642f6",
   "metadata": {},
   "outputs": [],
   "source": [
    "#Google Earth Engine\n",
    "gee = geodesic.account.credentials.Credential.from_gcp_service_account(\n",
    "    name='google-earth-engine', key=key)\n",
    "gee.create()\n",
    "\n",
    "\n",
    "#Google Cloud Storage\n",
    "gcs = geodesic.account.credentials.Credential.from_gcp_service_account('google-cloud-storage', key=None)\n",
    "gcs.create()\n",
    "\n",
    "\n",
    "#ArcGIS Online\n",
    "esri = geodesic.account.credentials.Credential.from_oauth2_client_credentials(name='esri-oauth2', client_id, client_secret=None, token_url=None, \n",
    "authorization_url=None, audience=None, scope=None)\n",
    "esri.create()"
   ]
  },
  {
   "cell_type": "markdown",
   "id": "b476aa8d",
   "metadata": {},
   "source": [
    "### View user credentials"
   ]
  },
  {
   "cell_type": "code",
   "execution_count": 7,
   "id": "6d7e0f23",
   "metadata": {},
   "outputs": [
    {
     "data": {
      "text/plain": [
       "[{'uid': 'd9ed058afcb692929fe0301429dff38f6286e7fa',\n",
       "  'name': 'google-cloud-storage',\n",
       "  'type': 'SERVICE_ACCOUNT_KEY'},\n",
       " {'uid': 'e9ac341b8308ecc6069c7686c3685050f27aadaf',\n",
       "  'name': 'google-earth-engine',\n",
       "  'type': 'SERVICE_ACCOUNT_KEY'},\n",
       " {'uid': 'eb0b39a2657e747af8acb28a236c459aebd12be1',\n",
       "  'name': 'o-auth2',\n",
       "  'type': 'OAUTH2_CLIENT_CREDENTIALS'},\n",
       " {'uid': '6331cbcb905c267a9ac82356dc4e15ba71c244cc',\n",
       "  'name': 'esri-oauth2',\n",
       "  'type': 'OAUTH2_CLIENT_CREDENTIALS'}]"
      ]
     },
     "execution_count": 7,
     "metadata": {},
     "output_type": "execute_result"
    }
   ],
   "source": [
    "#Retrieve your user account credentials\n",
    "geodesic.account.credentials.get_credentials()"
   ]
  },
  {
   "cell_type": "markdown",
   "id": "427fa7f1",
   "metadata": {},
   "source": [
    "### Add data with Boson using credentials"
   ]
  },
  {
   "cell_type": "code",
   "execution_count": 9,
   "id": "edf3f5f6",
   "metadata": {},
   "outputs": [
    {
     "name": "stdout",
     "output_type": "stream",
     "text": [
      "Enter password: ········\n"
     ]
    }
   ],
   "source": [
    "from arcgis.gis import GIS\n",
    "agol = GIS(\"https://seerai.maps.arcgis.com\", username=\"awagner_seerai\")"
   ]
  },
  {
   "cell_type": "code",
   "execution_count": 10,
   "id": "162eb764",
   "metadata": {},
   "outputs": [],
   "source": [
    "naip = geodesic.Dataset.from_arcgis_item(\n",
    "    name='naip-imagery',\n",
    "    item_id='3f8d2d3828f24c00ae279db4af26d566',\n",
    "    credential='esri-oauth2',\n",
    "    gis=agol\n",
    ")\n",
    "naip.save()"
   ]
  },
  {
   "cell_type": "code",
   "execution_count": 8,
   "id": "cdecd8f8",
   "metadata": {},
   "outputs": [],
   "source": [
    "#Add Google Earth Engine data\n",
    "ecmwf = geodesic.Dataset.from_google_earth_engine(\n",
    "    name='ecmwf', \n",
    "    asset='ECMWF/ERA5/MONTHLY', \n",
    "    credential= 'google-earth-engine',\n",
    "    alias='ERA5 Monthly Aggregates',\n",
    "    description='Latest Climate Reanalysis Produced by ECMWF / Copernicus Climate Change Service.'\n",
    ")\n",
    "ecmwf.save()"
   ]
  },
  {
   "cell_type": "code",
   "execution_count": 7,
   "id": "d850db57",
   "metadata": {},
   "outputs": [
    {
     "name": "stdout",
     "output_type": "stream",
     "text": [
      "{'ecmwf': dataset:*:*:*:ecmwf, 'grace-mass': dataset:*:*:*:grace-mass, 'naip-imagery': dataset:*:*:*:naip-imagery}\n"
     ]
    }
   ],
   "source": [
    "#Check datasets in project\n",
    "ds = geodesic.list_datasets(project='geodesic-example-1')\n",
    "print(ds)"
   ]
  }
 ],
 "metadata": {
  "kernelspec": {
   "display_name": "geodesic_linux",
   "language": "python",
   "name": "geodesic"
  },
  "language_info": {
   "codemirror_mode": {
    "name": "ipython",
    "version": 3
   },
   "file_extension": ".py",
   "mimetype": "text/x-python",
   "name": "python",
   "nbconvert_exporter": "python",
   "pygments_lexer": "ipython3",
   "version": "3.8.13"
  }
 },
 "nbformat": 4,
 "nbformat_minor": 5
}
