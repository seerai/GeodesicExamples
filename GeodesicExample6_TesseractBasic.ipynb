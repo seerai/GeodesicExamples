{
 "cells": [
  {
   "cell_type": "markdown",
   "id": "2e9ba2eb",
   "metadata": {},
   "source": [
    "## Tesseract -- combine datasets\n",
    "\n",
    "Exploring individual datasets is very useful. However, the power of Geodesic is only fully realized when spatial datasets are combined, or layered, so that new knowledge can be generated. \n",
    "\n",
    "When overlaying multiple spatial datasets it can be challenging to properly align each dataset by time, space, and resolution. Tesseract makes this process relatively painless and layers the input data like a well-stacked deck of cards.\n",
    "\n",
    "Below, Tesseract is used to layer the NASA Grace soild moisture data with the rainfall data inside of the project"
   ]
  },
  {
   "cell_type": "code",
   "execution_count": 1,
   "id": "c5676eaa",
   "metadata": {},
   "outputs": [],
   "source": []
  },
  {
   "cell_type": "code",
   "execution_count": 2,
   "id": "33f41db0",
   "metadata": {},
   "outputs": [
    {
     "name": "stdout",
     "output_type": "stream",
     "text": [
      "geodesic version =  0.11.7\n"
     ]
    }
   ],
   "source": [
    "import geodesic\n",
    "print(\"geodesic version = \",geodesic.__version__)"
   ]
  },
  {
   "cell_type": "code",
   "execution_count": 3,
   "id": "1dcf386c",
   "metadata": {},
   "outputs": [],
   "source": [
    "#Toggle between clusters\n",
    "geodesic.config.ConfigManager().set_active_config('seerai')"
   ]
  },
  {
   "cell_type": "code",
   "execution_count": 4,
   "id": "683678ba",
   "metadata": {},
   "outputs": [
    {
     "data": {
      "text/plain": [
       "{'name': 'geodesic-example-1',\n",
       " 'alias': 'geodesic_example_1',\n",
       " 'description': 'an example project to demonstrategeodesic',\n",
       " 'owner': 'auth0|62605f22b722a5006f32765b',\n",
       " 'keywords': '',\n",
       " 'uid': 'd0768e729eda9d133df3c7d7fbf131ae6ec780c3'}"
      ]
     },
     "execution_count": 4,
     "metadata": {},
     "output_type": "execute_result"
    }
   ],
   "source": [
    "geodesic.set_active_project('geodesic-example-1')"
   ]
  },
  {
   "cell_type": "code",
   "execution_count": 5,
   "id": "5eaed708",
   "metadata": {},
   "outputs": [
    {
     "name": "stdout",
     "output_type": "stream",
     "text": [
      "{'ecmwf': dataset:*:*:*:ecmwf, 'grace-mass': dataset:*:*:*:grace-mass, 'naip-imagery': dataset:*:*:*:naip-imagery, 'geodesic-example-1-tesseract-job': dataset:*:dataset:*:geodesic-example-1-tesseract-job, 'geodesic-example-1-tesseract-job2': dataset:*:dataset:*:geodesic-example-1-tesseract-job2}\n"
     ]
    }
   ],
   "source": [
    "ds = geodesic.list_datasets(project='geodesic-example-1')\n",
    "print(ds)"
   ]
  },
  {
   "cell_type": "markdown",
   "id": "0d921e47",
   "metadata": {},
   "source": [
    "### Tesseract Job Specs"
   ]
  },
  {
   "cell_type": "code",
   "execution_count": 6,
   "id": "15e0a0c5",
   "metadata": {},
   "outputs": [],
   "source": [
    "#Spec Tesseract job\n",
    "from geodesic.tesseract import Job, AssetSpec, GlobalProperties, TemporalBinning\n",
    "from datetime import datetime\n",
    "\n",
    "bbox = [-101.837769,43.953282,-100.936890,44.754535]\n",
    "\n",
    "job_spec = {\n",
    "    'name': 'geodesic-example-1-tesseract-job2',\n",
    "    'alias': 'geodesic example 1 Tesseract Job2',\n",
    "    'description': 'A demo job to show how tesseract can combine USDA CDL and global precipation data',\n",
    "    'bbox': bbox,\n",
    "    'project': 'geodesic-example-1',\n",
    "    'bbox_epsg': 4326,\n",
    "    'output_epsg': 3857,\n",
    "    'workers': 1,\n",
    "    'asset_specs': [\n",
    "        {\n",
    "            'dataset': 'ecmwf',\n",
    "            'name': 'ecmwf',\n",
    "            'project': 'geodesic-example-1',\n",
    "            'assets': ['total_precipitation'],\n",
    "            'pixel_size': [500.0, 500.0],\n",
    "            'resample': 'bilinear',\n",
    "            'datetime': (datetime(2016,1,1), datetime(2018,7,1)),\n",
    "            'temporal_binning': {\n",
    "                'equal': {\n",
    "                    'bin_size': '365D'\n",
    "                }\n",
    "            }\n",
    "            },\n",
    "        {\n",
    "            'dataset': 'naip-imagery',\n",
    "            'project': 'geodesic-example-1',\n",
    "            'name': 'naip',\n",
    "            'assets':['R','G', 'B'],\n",
    "            'pixel_size': [500.0, 500.0],\n",
    "            'resample': 'bilinear',\n",
    "            'datetime': (datetime(2016,1,1), datetime(2018,7,1)),\n",
    "            'temporal_binning': {\n",
    "                'reference': 'ecmwf'\n",
    "                }\n",
    "        },\n",
    "        \n",
    "    ],\n",
    "    'steps': [\n",
    "    ]\n",
    "}"
   ]
  },
  {
   "cell_type": "code",
   "execution_count": 7,
   "id": "a3c562ae",
   "metadata": {},
   "outputs": [],
   "source": [
    "#Assign job specs to variable\n",
    "job = Job(**job_spec)"
   ]
  },
  {
   "cell_type": "code",
   "execution_count": 8,
   "id": "b0215efa",
   "metadata": {},
   "outputs": [],
   "source": [
    "#Submit the job to Tesseract. Selecting dry_run=True returns returns the job attributes without actually running the job\n",
    "example_run = job.submit(dry_run=False)"
   ]
  },
  {
   "cell_type": "code",
   "execution_count": 9,
   "id": "3f9157f1",
   "metadata": {},
   "outputs": [
    {
     "name": "stdout",
     "output_type": "stream",
     "text": [
      "None\n"
     ]
    }
   ],
   "source": [
    "#View output dictionary\n",
    "import pprint\n",
    "pprint.pprint(example_run)"
   ]
  },
  {
   "cell_type": "code",
   "execution_count": 10,
   "id": "36ee5ff6",
   "metadata": {},
   "outputs": [],
   "source": [
    "job.submit()"
   ]
  },
  {
   "cell_type": "code",
   "execution_count": 11,
   "id": "8a60c8b0",
   "metadata": {},
   "outputs": [
    {
     "data": {
      "text/plain": [
       "{'job_id': '9cd0ffdc',\n",
       " 'state': 'completed',\n",
       " 'n_quarks': 6,\n",
       " 'n_quarks_completed': 6}"
      ]
     },
     "execution_count": 11,
     "metadata": {},
     "output_type": "execute_result"
    }
   ],
   "source": [
    "\"\"\"\n",
    "\n",
    "View job status to verify that the job is completed. The number of quarks completed should match the number of quarks \n",
    "in the submitted job\n",
    "\"\"\"\n",
    "job.status()"
   ]
  },
  {
   "cell_type": "markdown",
   "id": "83c01973",
   "metadata": {},
   "source": [
    "### View job output"
   ]
  },
  {
   "cell_type": "code",
   "execution_count": 12,
   "id": "ceaf4287",
   "metadata": {},
   "outputs": [
    {
     "data": {
      "text/html": [
       "<table class=\"zarr-info\"><tbody><tr><th style=\"text-align: left\">Name</th><td style=\"text-align: left\">/</td></tr><tr><th style=\"text-align: left\">Type</th><td style=\"text-align: left\">zarr.hierarchy.Group</td></tr><tr><th style=\"text-align: left\">Read-only</th><td style=\"text-align: left\">False</td></tr><tr><th style=\"text-align: left\">Store type</th><td style=\"text-align: left\">zarr.storage.FSStore</td></tr><tr><th style=\"text-align: left\">No. members</th><td style=\"text-align: left\">5</td></tr><tr><th style=\"text-align: left\">No. arrays</th><td style=\"text-align: left\">5</td></tr><tr><th style=\"text-align: left\">No. groups</th><td style=\"text-align: left\">0</td></tr><tr><th style=\"text-align: left\">Arrays</th><td style=\"text-align: left\">bands, tesseract, times, x, y</td></tr></tbody></table>"
      ],
      "text/plain": [
       "Name        : /\n",
       "Type        : zarr.hierarchy.Group\n",
       "Read-only   : False\n",
       "Store type  : zarr.storage.FSStore\n",
       "No. members : 5\n",
       "No. arrays  : 5\n",
       "No. groups  : 0\n",
       "Arrays      : bands, tesseract, times, x, y"
      ]
     },
     "execution_count": 12,
     "metadata": {},
     "output_type": "execute_result"
    }
   ],
   "source": [
    "\"\"\"\n",
    "\n",
    "Use Geodesic's zarr function to return the zarr group for the job output. 'Zarr is a format for the \n",
    "storage of chunked, compressed, N-dimensional arrays'. (https://gdal.org/drivers/raster/zarr.html)\n",
    "\"\"\"\n",
    "#View zarr file info\n",
    "zf = job.zarr('ecmwf')\n",
    "zf.info"
   ]
  },
  {
   "cell_type": "code",
   "execution_count": 13,
   "id": "6ddf3b1e",
   "metadata": {},
   "outputs": [
    {
     "data": {
      "text/plain": [
       "(3, 1, 249, 201)"
      ]
     },
     "execution_count": 13,
     "metadata": {},
     "output_type": "execute_result"
    }
   ],
   "source": [
    "\"\"\"\n",
    "\n",
    "From the zarr output we can call the tesseract array. Below, we can see that the shape of the array \n",
    "corresponds to the time bins (3), the asset count (1) and the array area (249 x 201). If we instead called returned the zarr\n",
    "object for the 'naip-imagery' dataset the shape would be (3, 3, 249, 201) because that dataset was run through tesseract with 2\n",
    "assets.\n",
    "\"\"\"\n",
    "import matplotlib.pyplot as plt\n",
    "import numpy as np\n",
    "tess = zf['tesseract']\n",
    "tess.shape"
   ]
  },
  {
   "cell_type": "code",
   "execution_count": 14,
   "id": "bbce944c",
   "metadata": {},
   "outputs": [
    {
     "data": {
      "text/plain": [
       "<matplotlib.image.AxesImage at 0x7fa0f87b4c70>"
      ]
     },
     "execution_count": 14,
     "metadata": {},
     "output_type": "execute_result"
    },
    {
     "data": {
      "image/png": "[encoded data removed]",
      "text/plain": [
       "<Figure size 640x480 with 1 Axes>"
      ]
     },
     "metadata": {},
     "output_type": "display_data"
    }
   ],
   "source": [
    "#View the output of the tesseract job\n",
    "import numpy as np\n",
    "\n",
    "#Calculate percent away from the mean for each pixel\n",
    "data = 1-((tess)/np.mean(tess))\n",
    "\n",
    "#Reshape result to plot\n",
    "image = data[1,0,:, :]\n",
    "plt.imshow(image)"
   ]
  },
  {
   "cell_type": "markdown",
   "id": "17bcf99f",
   "metadata": {},
   "source": [
    "### Write result to geotiff"
   ]
  },
  {
   "cell_type": "code",
   "execution_count": 56,
   "id": "8b429044",
   "metadata": {},
   "outputs": [],
   "source": [
    "#Get and make a variable out of a particular dataset\n",
    "result = geodesic.get_dataset('geodesic-example-1-tesseract-job2', project='geodesic-example-1')"
   ]
  },
  {
   "cell_type": "code",
   "execution_count": null,
   "id": "dc569e34",
   "metadata": {},
   "outputs": [],
   "source": [
    "#Assign the predipitation dataset to an array using Geodesic's warp function\n",
    "result_ecmwf = result.warp(bbox=bbox, datetime=datetime, bbox_srs='EPSG:4326', output_srs='EPSG:3857',\n",
    "    asset_names=['ecmwf'], pixel_size=(500.0, 500.0)\n",
    ")"
   ]
  },
  {
   "cell_type": "code",
   "execution_count": 83,
   "id": "cc72f725",
   "metadata": {},
   "outputs": [],
   "source": [
    "#Write array to geotiff-->shapefile\n",
    "result_ecmwf = result.warp(bbox=bbox, bbox_srs='EPSG:4326', output_srs='EPSG:3857', pixel_size=(500,500), content_type='tiff', asset_names=['ecmwf'], as_numpy=False)\n",
    "\n",
    "with open(\"example_result.tif\", 'wb') as fp:\n",
    "    fp.write(result_ecmwf)"
   ]
  },
  {
   "cell_type": "markdown",
   "id": "26878c66",
   "metadata": {},
   "source": [
    "### Connect datasets"
   ]
  },
  {
   "cell_type": "code",
   "execution_count": null,
   "id": "5be5d066",
   "metadata": {},
   "outputs": [],
   "source": [
    "from geodesic.entanglement import Object"
   ]
  },
  {
   "cell_type": "code",
   "execution_count": 96,
   "id": "fbb73578",
   "metadata": {},
   "outputs": [],
   "source": [
    "#Get datasets\n",
    "ecmwf = geodesic.get_dataset('ecmwf')\n",
    "naip = geodesic.get_dataset('naip-imagery')"
   ]
  },
  {
   "cell_type": "code",
   "execution_count": 88,
   "id": "63dcee30",
   "metadata": {},
   "outputs": [
    {
     "data": {
      "text/plain": [
       "dataset:*:*:*:ecmwf --links--> dataset:*:*:*:naip-imagery"
      ]
     },
     "execution_count": 88,
     "metadata": {},
     "output_type": "execute_result"
    }
   ],
   "source": [
    "#Make connections\n",
    "ecmwf.connect_with(\n",
    "    predicate={\n",
    "        'name': 'links'\n",
    "    },\n",
    "    object=naip\n",
    ")"
   ]
  },
  {
   "cell_type": "code",
   "execution_count": 89,
   "id": "c234450b",
   "metadata": {},
   "outputs": [
    {
     "data": {
      "text/plain": [
       "[dataset:*:*:*:ecmwf --links--> dataset:*:*:*:naip-imagery]"
      ]
     },
     "execution_count": 89,
     "metadata": {},
     "output_type": "execute_result"
    }
   ],
   "source": [
    "#View Connections\n",
    "conn = ecmwf.connections()\n",
    "conn"
   ]
  },
  {
   "cell_type": "code",
   "execution_count": 92,
   "id": "0850b05b",
   "metadata": {},
   "outputs": [],
   "source": [
    "#Plot connections\n",
    "import networkx as nx\n",
    "g = geodesic.get_objects(project='geodesic-example-1',as_graph=True)"
   ]
  },
  {
   "cell_type": "code",
   "execution_count": 93,
   "id": "01b90bed",
   "metadata": {},
   "outputs": [
    {
     "data": {
      "image/png": "[encoded data removed]",
      "text/plain": [
       "<Figure size 640x480 with 1 Axes>"
      ]
     },
     "metadata": {},
     "output_type": "display_data"
    }
   ],
   "source": [
    "nx.draw(g, with_labels=True)"
   ]
  }
 ],
 "metadata": {
  "kernelspec": {
   "display_name": "geodesic_linux",
   "language": "python",
   "name": "geodesic"
  },
  "language_info": {
   "codemirror_mode": {
    "name": "ipython",
    "version": 3
   },
   "file_extension": ".py",
   "mimetype": "text/x-python",
   "name": "python",
   "nbconvert_exporter": "python",
   "pygments_lexer": "ipython3",
   "version": "3.8.13"
  }
 },
 "nbformat": 4,
 "nbformat_minor": 5
}
