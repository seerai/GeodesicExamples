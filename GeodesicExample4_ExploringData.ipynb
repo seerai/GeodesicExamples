{
 "cells": [
  {
   "cell_type": "markdown",
   "id": "a9d3ae14",
   "metadata": {},
   "source": [
    "## Exploring data inside Entanglement\n",
    "\n",
    "All data inside a project can be accessed at any point in the space and time in which the data are bounded\n",
    "\n",
    "In this example the bounding box used is for a county in Iowa. A simple way to obtain bounding box coordinates is bbox finder:\n",
    "http://bboxfinder.com/#0.000000,0.000000,0.000000,0.000000"
   ]
  },
  {
   "cell_type": "code",
   "execution_count": 2,
   "id": "a27c43e0",
   "metadata": {},
   "outputs": [
    {
     "name": "stderr",
     "output_type": "stream",
     "text": [
      "/home/awagner/anaconda3/envs/geodesic/lib/python3.8/site-packages/geodesic/utils/downloader.py:30: UserWarning: google.cloud.storage is installed, but GOOGLE_APPLICATION_CREDENTIALS is not set\n",
      "  warnings.warn(\"google.cloud.storage is installed, but GOOGLE_APPLICATION_CREDENTIALS is not set\", UserWarning)\n"
     ]
    },
    {
     "name": "stdout",
     "output_type": "stream",
     "text": [
      "geodesic version =  0.11.7\n"
     ]
    }
   ],
   "source": [
    "import geodesic\n",
    "print(\"geodesic version = \",geodesic.__version__)"
   ]
  },
  {
   "cell_type": "code",
   "execution_count": 3,
   "id": "cedd367b",
   "metadata": {},
   "outputs": [],
   "source": [
    "#Toggle between clusters\n",
    "geodesic.config.ConfigManager().set_active_config('seerai')"
   ]
  },
  {
   "cell_type": "code",
   "execution_count": 4,
   "id": "e49d0e35",
   "metadata": {},
   "outputs": [
    {
     "data": {
      "text/plain": [
       "{'name': 'geodesic-example-1',\n",
       " 'alias': 'geodesic_example_1',\n",
       " 'description': 'an example project to demonstrategeodesic',\n",
       " 'owner': 'auth0|62605f22b722a5006f32765b',\n",
       " 'keywords': '',\n",
       " 'uid': 'd0768e729eda9d133df3c7d7fbf131ae6ec780c3'}"
      ]
     },
     "execution_count": 4,
     "metadata": {},
     "output_type": "execute_result"
    }
   ],
   "source": [
    "geodesic.set_active_project('geodesic-example-1')"
   ]
  },
  {
   "cell_type": "code",
   "execution_count": 5,
   "id": "12d047b7",
   "metadata": {},
   "outputs": [
    {
     "data": {
      "application/vnd.jupyter.widget-view+json": {
       "model_id": "c805619e810d4b24a2bc69fa6dd27df5",
       "version_major": 2,
       "version_minor": 0
      },
      "text/plain": [
       "ObjectWidget(object_value={'ecmwf': dataset:*:*:*:ecmwf, 'grace-mass': dataset:*:*:*:grace-mass, 'naip-imagery…"
      ]
     },
     "metadata": {},
     "output_type": "display_data"
    }
   ],
   "source": [
    "#List the datasets available in project\n",
    "geodesic.list_datasets(project='geodesic-example-1')"
   ]
  },
  {
   "cell_type": "code",
   "execution_count": 15,
   "id": "c2c14621",
   "metadata": {},
   "outputs": [],
   "source": [
    "#Get and make a variable out of a particular dataset\n",
    "ecmwf_ds = geodesic.get_dataset('ecmwf', project='geodesic-example-1')"
   ]
  },
  {
   "cell_type": "code",
   "execution_count": 16,
   "id": "add8fc60",
   "metadata": {},
   "outputs": [],
   "source": [
    "#Query the dataset in space and time\n",
    "import pprint\n",
    "from datetime import datetime\n",
    "\n",
    "#Assign spatial bounding box. This can be the bounding coordinates of any area on Earth\n",
    "bbox = [-101.837769,43.953282,-100.936890,44.754535]\n",
    "\n",
    "#Query the first six months of 2018 data inside the bounding box\n",
    "ecmwf_query = ecmwf_ds.query(bbox=bbox, datetime=[datetime(2018, 2, 1), datetime(2018, 7, 1)])"
   ]
  },
  {
   "cell_type": "code",
   "execution_count": 17,
   "id": "511a13f8",
   "metadata": {},
   "outputs": [
    {
     "name": "stdout",
     "output_type": "stream",
     "text": [
      "{'assets': {'dewpoint_2m_temperature': {'description': 'band '\n",
      "                                                       \"'dewpoint_2m_temperature' \"\n",
      "                                                       'of ECMWF/ERA5/MONTHLY',\n",
      "                                        'eo:bands': [{'name': 'dewpoint_2m_temperature'}],\n",
      "                                        'href': 'https://earthengine-highvolume.googleapis.com/v1beta/projects/earthengine-public/assets/ECMWF/ERA5/MONTHLY',\n",
      "                                        'title': 'dewpoint_2m_temperature',\n",
      "                                        'type': 'application/x-geotiff'},\n",
      "            'maximum_2m_air_temperature': {'description': 'band '\n",
      "                                                          \"'maximum_2m_air_temperature' \"\n",
      "                                                          'of '\n",
      "                                                          'ECMWF/ERA5/MONTHLY',\n",
      "                                           'eo:bands': [{'name': 'maximum_2m_air_temperature'}],\n",
      "                                           'href': 'https://earthengine-highvolume.googleapis.com/v1beta/projects/earthengine-public/assets/ECMWF/ERA5/MONTHLY',\n",
      "                                           'title': 'maximum_2m_air_temperature',\n",
      "                                           'type': 'application/x-geotiff'},\n",
      "            'mean_2m_air_temperature': {'description': 'band '\n",
      "                                                       \"'mean_2m_air_temperature' \"\n",
      "                                                       'of ECMWF/ERA5/MONTHLY',\n",
      "                                        'eo:bands': [{'name': 'mean_2m_air_temperature'}],\n",
      "                                        'href': 'https://earthengine-highvolume.googleapis.com/v1beta/projects/earthengine-public/assets/ECMWF/ERA5/MONTHLY',\n",
      "                                        'title': 'mean_2m_air_temperature',\n",
      "                                        'type': 'application/x-geotiff'},\n",
      "            'mean_sea_level_pressure': {'description': 'band '\n",
      "                                                       \"'mean_sea_level_pressure' \"\n",
      "                                                       'of ECMWF/ERA5/MONTHLY',\n",
      "                                        'eo:bands': [{'name': 'mean_sea_level_pressure'}],\n",
      "                                        'href': 'https://earthengine-highvolume.googleapis.com/v1beta/projects/earthengine-public/assets/ECMWF/ERA5/MONTHLY',\n",
      "                                        'title': 'mean_sea_level_pressure',\n",
      "                                        'type': 'application/x-geotiff'},\n",
      "            'minimum_2m_air_temperature': {'description': 'band '\n",
      "                                                          \"'minimum_2m_air_temperature' \"\n",
      "                                                          'of '\n",
      "                                                          'ECMWF/ERA5/MONTHLY',\n",
      "                                           'eo:bands': [{'name': 'minimum_2m_air_temperature'}],\n",
      "                                           'href': 'https://earthengine-highvolume.googleapis.com/v1beta/projects/earthengine-public/assets/ECMWF/ERA5/MONTHLY',\n",
      "                                           'title': 'minimum_2m_air_temperature',\n",
      "                                           'type': 'application/x-geotiff'},\n",
      "            'surface_pressure': {'description': \"band 'surface_pressure' of \"\n",
      "                                                'ECMWF/ERA5/MONTHLY',\n",
      "                                 'eo:bands': [{'name': 'surface_pressure'}],\n",
      "                                 'href': 'https://earthengine-highvolume.googleapis.com/v1beta/projects/earthengine-public/assets/ECMWF/ERA5/MONTHLY',\n",
      "                                 'title': 'surface_pressure',\n",
      "                                 'type': 'application/x-geotiff'},\n",
      "            'total_precipitation': {'description': \"band 'total_precipitation' \"\n",
      "                                                   'of ECMWF/ERA5/MONTHLY',\n",
      "                                    'eo:bands': [{'name': 'total_precipitation'}],\n",
      "                                    'href': 'https://earthengine-highvolume.googleapis.com/v1beta/projects/earthengine-public/assets/ECMWF/ERA5/MONTHLY',\n",
      "                                    'title': 'total_precipitation',\n",
      "                                    'type': 'application/x-geotiff'},\n",
      "            'u_component_of_wind_10m': {'description': 'band '\n",
      "                                                       \"'u_component_of_wind_10m' \"\n",
      "                                                       'of ECMWF/ERA5/MONTHLY',\n",
      "                                        'eo:bands': [{'name': 'u_component_of_wind_10m'}],\n",
      "                                        'href': 'https://earthengine-highvolume.googleapis.com/v1beta/projects/earthengine-public/assets/ECMWF/ERA5/MONTHLY',\n",
      "                                        'title': 'u_component_of_wind_10m',\n",
      "                                        'type': 'application/x-geotiff'},\n",
      "            'v_component_of_wind_10m': {'description': 'band '\n",
      "                                                       \"'v_component_of_wind_10m' \"\n",
      "                                                       'of ECMWF/ERA5/MONTHLY',\n",
      "                                        'eo:bands': [{'name': 'v_component_of_wind_10m'}],\n",
      "                                        'href': 'https://earthengine-highvolume.googleapis.com/v1beta/projects/earthengine-public/assets/ECMWF/ERA5/MONTHLY',\n",
      "                                        'title': 'v_component_of_wind_10m',\n",
      "                                        'type': 'application/x-geotiff'}},\n",
      " 'bbox': (-180, -90, 180, 90),\n",
      " 'collection': 'MONTHLY',\n",
      " 'geometry': {'coordinates': [[[-180, -90],\n",
      "                               [180, -90],\n",
      "                               [180, 90],\n",
      "                               [-180, 90],\n",
      "                               [-180, -90]]],\n",
      "              'type': 'Polygon'},\n",
      " 'id': 'ECMWF/ERA5/MONTHLY/201801',\n",
      " 'properties': {'month': 1, 'year': 2018},\n",
      " 'type': 'Feature'}\n"
     ]
    }
   ],
   "source": [
    "#Assign the first feature (in this case month 1) of the dataset to a dictionary\n",
    "example1 = dict(ecmwf_query.features[0])\n",
    "\n",
    "#View output dictionary\n",
    "pprint.pprint(example1)"
   ]
  }
 ],
 "metadata": {
  "kernelspec": {
   "display_name": "geodesic_linux",
   "language": "python",
   "name": "geodesic"
  },
  "language_info": {
   "codemirror_mode": {
    "name": "ipython",
    "version": 3
   },
   "file_extension": ".py",
   "mimetype": "text/x-python",
   "name": "python",
   "nbconvert_exporter": "python",
   "pygments_lexer": "ipython3",
   "version": "3.8.13"
  }
 },
 "nbformat": 4,
 "nbformat_minor": 5
}
