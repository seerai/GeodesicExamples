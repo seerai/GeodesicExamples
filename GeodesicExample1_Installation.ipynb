{
 "cells": [
  {
   "cell_type": "markdown",
   "id": "77e9673a",
   "metadata": {},
   "source": [
    "## Geodesic Installation\n",
    "You will want to use some sort of virtual environment to manage your python libraries. This ensures that you do not have version conflicts with any other projects you might have that also use python. We recommend Conda <https://docs.conda.io/en/latest/> as it has the easiest installation options for libraries that need binaries.\n",
    "\n",
    "To install miniconda (the lightweight Conda package manager) follow instructions here <https://docs.conda.io/en/latest/miniconda.html>.\n",
    "\n",
    "Once conda is installed we can create a virtual environment:\n",
    "#### conda create -n geodesic python=3.8\n",
    "#### conda activate geodesic\n",
    "\n",
    "\n",
    "If you will be using any local raster processing functionality in the geodesic python API you should also install GDAL.\n",
    "\n",
    "\n",
    "#### conda install GDAL=3.0.1\n",
    "\n",
    "\n",
    "You can then install the Geodesic API through pip. There are a few installation options including installing all dependencies or only installing minimal dependencies to work. For getting started we recommend installing all dependencies. This will enable all functionality including all Jupyter widgets and visualizations. To install all dependencies along with the Geodesic API, run\n",
    "\n",
    "#### pip install geodesic-api[all]"
   ]
  },
  {
   "cell_type": "code",
   "execution_count": 1,
   "id": "80cab28b",
   "metadata": {},
   "outputs": [
    {
     "name": "stderr",
     "output_type": "stream",
     "text": [
      "/home/awagner/anaconda3/envs/geodesic/lib/python3.8/site-packages/geodesic/utils/downloader.py:30: UserWarning: google.cloud.storage is installed, but GOOGLE_APPLICATION_CREDENTIALS is not set\n",
      "  warnings.warn(\"google.cloud.storage is installed, but GOOGLE_APPLICATION_CREDENTIALS is not set\", UserWarning)\n"
     ]
    },
    {
     "name": "stdout",
     "output_type": "stream",
     "text": [
      "geodesic version =  0.11.7\n"
     ]
    }
   ],
   "source": [
    "#Import Geodesic package and print installed version\n",
    "import geodesic\n",
    "print(\"geodesic version = \",geodesic.__version__)"
   ]
  },
  {
   "cell_type": "code",
   "execution_count": null,
   "id": "8222b410",
   "metadata": {},
   "outputs": [],
   "source": []
  },
  {
   "cell_type": "code",
   "execution_count": null,
   "id": "b6c76fb1",
   "metadata": {},
   "outputs": [],
   "source": [
    "#Authenticate user\n",
    "geodesic.authenticate()"
   ]
  },
  {
   "cell_type": "code",
   "execution_count": 4,
   "id": "29d43653",
   "metadata": {},
   "outputs": [
    {
     "data": {
      "application/vnd.jupyter.widget-view+json": {
       "model_id": "a6b7cc7ed2ed40a081454a8e9c5e06f6",
       "version_major": 2,
       "version_minor": 0
      },
      "text/plain": [
       "UserWidget(object_value={'subject': 'NeVDse1rZ0sMpSbqa6Hdpg_PfyDvAIf0vMIUotEMADI', 'first_name': '', 'last_nam…"
      ]
     },
     "metadata": {},
     "output_type": "display_data"
    }
   ],
   "source": [
    "#View user profile\n",
    "geodesic.myself()"
   ]
  },
  {
   "cell_type": "code",
   "execution_count": null,
   "id": "2d9ab0a6",
   "metadata": {},
   "outputs": [],
   "source": [
    "#Toggle between clusters\n",
    "geodesic.config.ConfigManager().set_active_config('seerai')\n",
    "geodesic.config.ConfigManager().set_active_config('qp-southcom')"
   ]
  }
 ],
 "metadata": {
  "kernelspec": {
   "display_name": "geodesic_linux",
   "language": "python",
   "name": "geodesic"
  },
  "language_info": {
   "codemirror_mode": {
    "name": "ipython",
    "version": 3
   },
   "file_extension": ".py",
   "mimetype": "text/x-python",
   "name": "python",
   "nbconvert_exporter": "python",
   "pygments_lexer": "ipython3",
   "version": "3.8.13"
  }
 },
 "nbformat": 4,
 "nbformat_minor": 5
}
